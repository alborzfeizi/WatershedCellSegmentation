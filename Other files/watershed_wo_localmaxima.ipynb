{
 "cells": [
  {
   "cell_type": "code",
   "execution_count": 6,
   "metadata": {},
   "outputs": [],
   "source": [
    "import cv2 as cv\n",
    "import numpy as np\n",
    "import matplotlib as mpl\n",
    "\n",
    "import matplotlib.pyplot as plt\n",
    "import matplotlib.colors as cl\n",
    "\n",
    "from scipy import ndimage\n",
    "from skimage import measure, color, io\n",
    "from skimage.segmentation import clear_border\n"
   ]
  },
  {
   "cell_type": "code",
   "execution_count": 7,
   "metadata": {},
   "outputs": [],
   "source": [
    "img = cv.imread('D:/A02.2020-08-27-20-07-49/A02_Bottom Slide_R_p01_0_A01f00d0.TIF', cv.IMREAD_ANYDEPTH)\n",
    "img = (img/4095)*255\n",
    "img = np.uint8(img)\n",
    "\n",
    "ret1, thresh = cv.threshold(img, 0, 255, cv.THRESH_BINARY+cv.THRESH_OTSU)\n",
    "\n",
    "kernel = np.ones((3,3),np.uint8)\n",
    "# opening = cv.morphologyEx(thresh,cv.MORPH_OPEN,kernel, iterations = 1)\n",
    "opening = thresh\n",
    "opening = clear_border(opening) #Remove edge touching grains\n",
    "\n",
    "sure_bg = cv.dilate(opening,kernel,iterations=10)"
   ]
  },
  {
   "cell_type": "code",
   "execution_count": 8,
   "metadata": {},
   "outputs": [],
   "source": [
    "opening = opening.astype('uint8')\n",
    "\n",
    "# opening = cv.dilate(opening,kernel,iterations=5)\n",
    "dist = cv.distanceTransform(opening, distanceType=cv.DIST_L2, maskSize=0)"
   ]
  },
  {
   "cell_type": "code",
   "execution_count": 9,
   "metadata": {},
   "outputs": [],
   "source": [
    "# clahe = cv.createCLAHE(clipLimit=10.0, tileGridSize=(8,8))  #Define tile size and clip limit. \n",
    "# dist2 = clahe.apply(np.uint8(dist))\n",
    "\n",
    "# dist2 = cv.equalizeHist(np.uint8(dist))\n",
    "\n",
    "# dist2 = cv.Laplacian(dist, cv.CV_32F)\n",
    "# dist2 = -1*dist2\n",
    "# dist2 = np.clip(dist2, 0, 5)\n",
    "\n",
    "# dist2 = cv.erode(dist, kernel, iterations = 10)"
   ]
  },
  {
   "cell_type": "code",
   "execution_count": 10,
   "metadata": {},
   "outputs": [],
   "source": [
    "# ret2, sure_fg = cv.threshold(dist,23,255,0)\n",
    "dist2 = dist;\n",
    "ret2, sure_fg = cv.threshold(dist2,3,255,0)\n",
    "sure_fg = np.uint8(sure_fg)\n",
    "\n",
    "# for x in range(10):\n",
    "#     dist = cv.distanceTransform(sure_fg, distanceType=cv.DIST_L2, maskSize=0)\n",
    "#     ret2, sure_fg = cv.threshold(dist,1,255,0)\n",
    "#     sure_fg = np.uint8(sure_fg)\n",
    "\n",
    "\n",
    "\n",
    "sure_bg = np.uint8(sure_bg)\n",
    "\n",
    "ret3, markers = cv.connectedComponents(sure_fg)\n",
    "\n",
    "markers = markers+10\n",
    "\n",
    "unknown = cv.subtract(sure_bg,sure_fg)\n",
    "markers[unknown==255] = 0"
   ]
  },
  {
   "cell_type": "code",
   "execution_count": 11,
   "metadata": {},
   "outputs": [],
   "source": [
    "imgRGB = img\n",
    "# imgRGB = (imgRGB/4095)*255\n",
    "# imgRGB = np.uint8(imgRGB)\n",
    "# imgRGB = np.clip(imgRGB, 0, 255)\n",
    "\n",
    "imgRGB = cv.cvtColor(imgRGB,cv.COLOR_GRAY2BGR)\n",
    "# imgRGB = cv.cvtColor(np.uint8(imgRGB),cv.COLOR_GRAY2BGR)\n",
    "# imgRGB = np.asarray(img)\n",
    "# imgRGB.shape\n",
    "# %matplotlib auto\n",
    "# cv.imshow('Overlay on original image', imgRGB)\n",
    "# cv.imshow('Colored Grains', img2)\n",
    "# cv.waitKey(0)"
   ]
  },
  {
   "cell_type": "code",
   "execution_count": 12,
   "metadata": {},
   "outputs": [],
   "source": [
    "# markers = np.int32(markers)"
   ]
  },
  {
   "cell_type": "code",
   "execution_count": 13,
   "metadata": {},
   "outputs": [],
   "source": [
    "markers = cv.watershed(imgRGB,markers)\n",
    "imgRGB[markers == -1] = [0,255,255]\n",
    "\n",
    "img2 = color.label2rgb(markers, bg_label=0)"
   ]
  },
  {
   "cell_type": "code",
   "execution_count": 14,
   "metadata": {},
   "outputs": [],
   "source": [
    "%matplotlib widget"
   ]
  },
  {
   "cell_type": "code",
   "execution_count": 15,
   "metadata": {},
   "outputs": [
    {
     "data": {
      "application/vnd.jupyter.widget-view+json": {
       "model_id": "5a296fe88d6e49588cde8e8082594398",
       "version_major": 2,
       "version_minor": 0
      },
      "text/plain": [
       "Canvas(toolbar=Toolbar(toolitems=[('Home', 'Reset original view', 'home', 'home'), ('Back', 'Back to previous …"
      ]
     },
     "metadata": {},
     "output_type": "display_data"
    },
    {
     "data": {
      "text/plain": [
       "<matplotlib.image.AxesImage at 0x1f700146400>"
      ]
     },
     "execution_count": 15,
     "metadata": {},
     "output_type": "execute_result"
    }
   ],
   "source": [
    "#im = plt.imshow(img, cmap='gray', vmin = 300, vmax = 700)\n",
    "# plt.colorbar(im)\n",
    "\n",
    "fig=plt.figure()\n",
    "fig.add_subplot(2,2,1)\n",
    "plt.imshow(img, cmap = 'gray')\n",
    "\n",
    "\n",
    "fig.add_subplot(2,2,2)\n",
    "plt.imshow(cv.cvtColor(imgRGB,cv.COLOR_BGR2RGB))\n",
    "# plt.imshow(imgRGB, cmap = 'gray')\n",
    "\n",
    "fig.add_subplot(2,2,3)\n",
    "plt.imshow(dist)\n",
    "\n",
    "fig.add_subplot(2,2,4)\n",
    "plt.imshow(dist2)"
   ]
  },
  {
   "cell_type": "code",
   "execution_count": 16,
   "metadata": {},
   "outputs": [
    {
     "data": {
      "text/plain": [
       "(1048, 1328, 3)"
      ]
     },
     "execution_count": 16,
     "metadata": {},
     "output_type": "execute_result"
    }
   ],
   "source": [
    "img2.shape"
   ]
  },
  {
   "cell_type": "code",
   "execution_count": 17,
   "metadata": {
    "scrolled": false
   },
   "outputs": [
    {
     "data": {
      "application/vnd.jupyter.widget-view+json": {
       "model_id": "bc70cb20435d480e954dfeb9e37ca016",
       "version_major": 2,
       "version_minor": 0
      },
      "text/plain": [
       "Canvas(toolbar=Toolbar(toolitems=[('Home', 'Reset original view', 'home', 'home'), ('Back', 'Back to previous …"
      ]
     },
     "metadata": {},
     "output_type": "display_data"
    },
    {
     "data": {
      "text/plain": [
       "<matplotlib.image.AxesImage at 0x1f700355eb0>"
      ]
     },
     "execution_count": 17,
     "metadata": {},
     "output_type": "execute_result"
    }
   ],
   "source": [
    "fig2=plt.figure()\n",
    "# plt.imshow(cv.cvtColor(np.uint8(img2),cv.COLOR_BGR2RGB), cmap='jet')\n",
    "plt.imshow(img2, cmap='jet')"
   ]
  },
  {
   "cell_type": "code",
   "execution_count": null,
   "metadata": {},
   "outputs": [],
   "source": []
  }
 ],
 "metadata": {
  "kernelspec": {
   "display_name": "Python 3",
   "language": "python",
   "name": "python3"
  },
  "language_info": {
   "codemirror_mode": {
    "name": "ipython",
    "version": 3
   },
   "file_extension": ".py",
   "mimetype": "text/x-python",
   "name": "python",
   "nbconvert_exporter": "python",
   "pygments_lexer": "ipython3",
   "version": "3.8.3"
  }
 },
 "nbformat": 4,
 "nbformat_minor": 4
}
